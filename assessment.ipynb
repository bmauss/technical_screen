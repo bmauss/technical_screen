{
 "cells": [
  {
   "cell_type": "markdown",
   "metadata": {},
   "source": [
    "Thomas Brown - 12/01/2020"
   ]
  },
  {
   "cell_type": "markdown",
   "metadata": {},
   "source": [
    "# Technical Assessment for Data Analyst Position"
   ]
  },
  {
   "cell_type": "markdown",
   "metadata": {},
   "source": [
    "# Importing Libraries:"
   ]
  },
  {
   "cell_type": "code",
   "execution_count": 7,
   "metadata": {},
   "outputs": [],
   "source": [
    "import pandas as pd\n",
    "import sqlite3"
   ]
  },
  {
   "cell_type": "markdown",
   "metadata": {},
   "source": [
    "# Importing Data:"
   ]
  },
  {
   "cell_type": "code",
   "execution_count": 5,
   "metadata": {},
   "outputs": [
    {
     "data": {
      "text/html": [
       "<div>\n",
       "<style scoped>\n",
       "    .dataframe tbody tr th:only-of-type {\n",
       "        vertical-align: middle;\n",
       "    }\n",
       "\n",
       "    .dataframe tbody tr th {\n",
       "        vertical-align: top;\n",
       "    }\n",
       "\n",
       "    .dataframe thead th {\n",
       "        text-align: right;\n",
       "    }\n",
       "</style>\n",
       "<table border=\"1\" class=\"dataframe\">\n",
       "  <thead>\n",
       "    <tr style=\"text-align: right;\">\n",
       "      <th></th>\n",
       "      <th>created_at</th>\n",
       "      <th>number</th>\n",
       "      <th>state</th>\n",
       "      <th>label_bug</th>\n",
       "      <th>label_more_info_needed</th>\n",
       "      <th>label_feature_request</th>\n",
       "      <th>label_help_wanted</th>\n",
       "      <th>num_comments</th>\n",
       "      <th>num_commenters</th>\n",
       "      <th>reaction_eyes</th>\n",
       "      <th>reaction_rocket</th>\n",
       "      <th>reaction_thinking_face</th>\n",
       "      <th>reaction_thumbs_up</th>\n",
       "      <th>reaction_heart</th>\n",
       "      <th>reaction_tada</th>\n",
       "      <th>reaction_thumbs_down</th>\n",
       "      <th>reaction_smile</th>\n",
       "    </tr>\n",
       "  </thead>\n",
       "  <tbody>\n",
       "    <tr>\n",
       "      <td>0</td>\n",
       "      <td>2016-05-12</td>\n",
       "      <td>1</td>\n",
       "      <td>closed</td>\n",
       "      <td>False</td>\n",
       "      <td>False</td>\n",
       "      <td>False</td>\n",
       "      <td>False</td>\n",
       "      <td>0</td>\n",
       "      <td>0</td>\n",
       "      <td>0</td>\n",
       "      <td>0</td>\n",
       "      <td>0</td>\n",
       "      <td>0</td>\n",
       "      <td>0</td>\n",
       "      <td>0</td>\n",
       "      <td>0</td>\n",
       "      <td>0</td>\n",
       "    </tr>\n",
       "    <tr>\n",
       "      <td>1</td>\n",
       "      <td>2016-05-12</td>\n",
       "      <td>2</td>\n",
       "      <td>closed</td>\n",
       "      <td>False</td>\n",
       "      <td>False</td>\n",
       "      <td>False</td>\n",
       "      <td>False</td>\n",
       "      <td>1</td>\n",
       "      <td>1</td>\n",
       "      <td>0</td>\n",
       "      <td>0</td>\n",
       "      <td>0</td>\n",
       "      <td>0</td>\n",
       "      <td>0</td>\n",
       "      <td>0</td>\n",
       "      <td>0</td>\n",
       "      <td>0</td>\n",
       "    </tr>\n",
       "    <tr>\n",
       "      <td>2</td>\n",
       "      <td>2016-05-12</td>\n",
       "      <td>3</td>\n",
       "      <td>closed</td>\n",
       "      <td>False</td>\n",
       "      <td>False</td>\n",
       "      <td>False</td>\n",
       "      <td>False</td>\n",
       "      <td>1</td>\n",
       "      <td>1</td>\n",
       "      <td>0</td>\n",
       "      <td>0</td>\n",
       "      <td>0</td>\n",
       "      <td>0</td>\n",
       "      <td>0</td>\n",
       "      <td>0</td>\n",
       "      <td>0</td>\n",
       "      <td>0</td>\n",
       "    </tr>\n",
       "    <tr>\n",
       "      <td>3</td>\n",
       "      <td>2016-05-12</td>\n",
       "      <td>4</td>\n",
       "      <td>closed</td>\n",
       "      <td>False</td>\n",
       "      <td>False</td>\n",
       "      <td>False</td>\n",
       "      <td>False</td>\n",
       "      <td>2</td>\n",
       "      <td>2</td>\n",
       "      <td>0</td>\n",
       "      <td>0</td>\n",
       "      <td>0</td>\n",
       "      <td>0</td>\n",
       "      <td>0</td>\n",
       "      <td>0</td>\n",
       "      <td>0</td>\n",
       "      <td>0</td>\n",
       "    </tr>\n",
       "    <tr>\n",
       "      <td>4</td>\n",
       "      <td>2016-05-12</td>\n",
       "      <td>5</td>\n",
       "      <td>closed</td>\n",
       "      <td>False</td>\n",
       "      <td>False</td>\n",
       "      <td>False</td>\n",
       "      <td>False</td>\n",
       "      <td>1</td>\n",
       "      <td>1</td>\n",
       "      <td>0</td>\n",
       "      <td>0</td>\n",
       "      <td>0</td>\n",
       "      <td>0</td>\n",
       "      <td>0</td>\n",
       "      <td>0</td>\n",
       "      <td>0</td>\n",
       "      <td>0</td>\n",
       "    </tr>\n",
       "  </tbody>\n",
       "</table>\n",
       "</div>"
      ],
      "text/plain": [
       "   created_at  number   state  label_bug  label_more_info_needed  \\\n",
       "0  2016-05-12       1  closed      False                   False   \n",
       "1  2016-05-12       2  closed      False                   False   \n",
       "2  2016-05-12       3  closed      False                   False   \n",
       "3  2016-05-12       4  closed      False                   False   \n",
       "4  2016-05-12       5  closed      False                   False   \n",
       "\n",
       "   label_feature_request  label_help_wanted  num_comments  num_commenters  \\\n",
       "0                  False              False             0               0   \n",
       "1                  False              False             1               1   \n",
       "2                  False              False             1               1   \n",
       "3                  False              False             2               2   \n",
       "4                  False              False             1               1   \n",
       "\n",
       "   reaction_eyes  reaction_rocket  reaction_thinking_face  reaction_thumbs_up  \\\n",
       "0              0                0                       0                   0   \n",
       "1              0                0                       0                   0   \n",
       "2              0                0                       0                   0   \n",
       "3              0                0                       0                   0   \n",
       "4              0                0                       0                   0   \n",
       "\n",
       "   reaction_heart  reaction_tada  reaction_thumbs_down  reaction_smile  \n",
       "0               0              0                     0               0  \n",
       "1               0              0                     0               0  \n",
       "2               0              0                     0               0  \n",
       "3               0              0                     0               0  \n",
       "4               0              0                     0               0  "
      ]
     },
     "metadata": {},
     "output_type": "display_data"
    },
    {
     "name": "stdout",
     "output_type": "stream",
     "text": [
      "<class 'pandas.core.frame.DataFrame'>\n",
      "RangeIndex: 6907 entries, 0 to 6906\n",
      "Data columns (total 17 columns):\n",
      "created_at                6907 non-null object\n",
      "number                    6907 non-null int64\n",
      "state                     6907 non-null object\n",
      "label_bug                 6907 non-null bool\n",
      "label_more_info_needed    6907 non-null bool\n",
      "label_feature_request     6907 non-null bool\n",
      "label_help_wanted         6907 non-null bool\n",
      "num_comments              6907 non-null int64\n",
      "num_commenters            6907 non-null int64\n",
      "reaction_eyes             6907 non-null int64\n",
      "reaction_rocket           6907 non-null int64\n",
      "reaction_thinking_face    6907 non-null int64\n",
      "reaction_thumbs_up        6907 non-null int64\n",
      "reaction_heart            6907 non-null int64\n",
      "reaction_tada             6907 non-null int64\n",
      "reaction_thumbs_down      6907 non-null int64\n",
      "reaction_smile            6907 non-null int64\n",
      "dtypes: bool(4), int64(11), object(2)\n",
      "memory usage: 728.6+ KB\n"
     ]
    },
    {
     "data": {
      "text/plain": [
       "None"
      ]
     },
     "metadata": {},
     "output_type": "display_data"
    },
    {
     "data": {
      "text/plain": [
       "(6907, 17)"
      ]
     },
     "metadata": {},
     "output_type": "display_data"
    }
   ],
   "source": [
    "df = pd.read_csv('issues.csv') # Importing the data\n",
    "display(df.head()) # and checking out the first few rows\n",
    "display(df.info()) # No null values - likely fairly clean data\n",
    "display(df.shape) # 6,907 rows and 17 columns"
   ]
  },
  {
   "cell_type": "markdown",
   "metadata": {},
   "source": [
    "## Column Descriptions:"
   ]
  },
  {
   "cell_type": "markdown",
   "metadata": {},
   "source": [
    "- created_at: the day the issue was created\n",
    "- number: the issue number\n",
    "- state: whether the issue is open or closed\n",
    "- label_bug: true if the \"bug\" label was applied to the issue\n",
    "- label_more_info_needed: true if the \"more info needed\" label was applied to the issue\n",
    "- label_feature_request: true if the \"feature request\" label was applied to the issue\n",
    "- label_help_wanted: true if the \"help wanted\" label was applied to the issue, indicating the issue is a good one for an outside contributor to work on\n",
    "- num_comments: the number of comments on the issue\n",
    "- num_commenters: the number of people commenting on the issue\n",
    "- reaction_eyes: the number of people who have added the eyes emoji reaction to the issue\n",
    "- reaction_rocket: the number of people who have added the rocket emoji reaction to the issue\n",
    "- reaction_thinking_face: the number of people who have added the thinking face emoji reaction to the issue\n",
    "- reaction_thumbs_up: the number of people who have added the thumbs up emoji reaction to the issue\n",
    "- reaction_heart: the number of people who have added the heart emoji reaction to the issue\n",
    "- reaction_tada: the number of people who have added the tada/party emoji reaction to the issue\n",
    "- reaction_thumbs_down: the number of people who have added the thumbs down emoji reaction to the issue\n",
    "- reaction_smile: the number of people who have added the smile emoji reaction to the issue"
   ]
  },
  {
   "cell_type": "markdown",
   "metadata": {},
   "source": [
    "# Initializing SQLite3 DB:"
   ]
  },
  {
   "cell_type": "code",
   "execution_count": 25,
   "metadata": {},
   "outputs": [],
   "source": [
    "conn = sqlite3.connect(\"issues_db.sqlite\")\n",
    "c = conn.cursor()\n",
    "df.to_sql(\"issues\", conn, index = False)"
   ]
  },
  {
   "cell_type": "markdown",
   "metadata": {},
   "source": [
    "# Questions:"
   ]
  },
  {
   "cell_type": "markdown",
   "metadata": {},
   "source": [
    "## How many issues are currently open in the avocado-toast repository?"
   ]
  },
  {
   "cell_type": "code",
   "execution_count": 33,
   "metadata": {},
   "outputs": [
    {
     "data": {
      "text/html": [
       "<div>\n",
       "<style scoped>\n",
       "    .dataframe tbody tr th:only-of-type {\n",
       "        vertical-align: middle;\n",
       "    }\n",
       "\n",
       "    .dataframe tbody tr th {\n",
       "        vertical-align: top;\n",
       "    }\n",
       "\n",
       "    .dataframe thead th {\n",
       "        text-align: right;\n",
       "    }\n",
       "</style>\n",
       "<table border=\"1\" class=\"dataframe\">\n",
       "  <thead>\n",
       "    <tr style=\"text-align: right;\">\n",
       "      <th></th>\n",
       "      <th>open_issues</th>\n",
       "    </tr>\n",
       "  </thead>\n",
       "  <tbody>\n",
       "    <tr>\n",
       "      <td>0</td>\n",
       "      <td>736</td>\n",
       "    </tr>\n",
       "  </tbody>\n",
       "</table>\n",
       "</div>"
      ],
      "text/plain": [
       "   open_issues\n",
       "0          736"
      ]
     },
     "execution_count": 33,
     "metadata": {},
     "output_type": "execute_result"
    }
   ],
   "source": [
    "c.execute(\"\"\"SELECT COUNT (state) as open_issues\n",
    "             FROM issues\n",
    "             WHERE state = 'open';\"\"\")\n",
    "df1 = pd.DataFrame(c.fetchall())\n",
    "df1.columns = [i[0] for i in c.description]\n",
    "df1.head()"
   ]
  },
  {
   "cell_type": "markdown",
   "metadata": {},
   "source": [
    "## Which month had the most issues created in the avocado-toast repo?"
   ]
  },
  {
   "cell_type": "code",
   "execution_count": null,
   "metadata": {},
   "outputs": [],
   "source": [
    "c.execute(\"\"\"SELECT *\n",
    "             FROM issues;\"\"\")\n",
    "df2 = pd.DataFrame(c.fetchall())\n",
    "df2.columns = [i[0] for i in c.description]\n",
    "df2.head()\n",
    "# Use count month \n",
    "# Order Desc\n",
    "# Limit 1"
   ]
  },
  {
   "cell_type": "markdown",
   "metadata": {},
   "source": [
    "## Which month had the most bugs filed?"
   ]
  },
  {
   "cell_type": "code",
   "execution_count": null,
   "metadata": {},
   "outputs": [],
   "source": [
    "c.execute(\"\"\"SELECT *\n",
    "             FROM issues;\"\"\")\n",
    "df3 = pd.DataFrame(c.fetchall())\n",
    "df3.columns = [i[0] for i in c.description]\n",
    "df3.head()\n",
    "# Use label_bug\n",
    "# Pull out month\n",
    "# Same as last question"
   ]
  },
  {
   "cell_type": "markdown",
   "metadata": {},
   "source": [
    "## What is the most used emoji reaction in the avocado-toast repo?"
   ]
  },
  {
   "cell_type": "code",
   "execution_count": null,
   "metadata": {},
   "outputs": [],
   "source": [
    "c.execute(\"\"\"SELECT *\n",
    "             FROM issues;\"\"\")\n",
    "df4 = pd.DataFrame(c.fetchall())\n",
    "df4.columns = [i[0] for i in c.description]\n",
    "df4.head()\n",
    "# Count of all emoji columns"
   ]
  },
  {
   "cell_type": "markdown",
   "metadata": {},
   "source": [
    "## How many issues with more than 5 comments had each commenter leave exactly one comment?"
   ]
  },
  {
   "cell_type": "code",
   "execution_count": null,
   "metadata": {},
   "outputs": [],
   "source": [
    "c.execute(\"\"\"SELECT *\n",
    "             FROM issues;\"\"\")\n",
    "df5 = pd.DataFrame(c.fetchall())\n",
    "df5.columns = [i[0] for i in c.description]\n",
    "df5.head()\n",
    "# Count where comments > 5 and commenter = 1. . . "
   ]
  },
  {
   "cell_type": "markdown",
   "metadata": {},
   "source": [
    "## Which issue is the most popular in the avocado-toast repo?"
   ]
  },
  {
   "cell_type": "code",
   "execution_count": null,
   "metadata": {},
   "outputs": [],
   "source": [
    "c.execute(\"\"\"SELECT *\n",
    "             FROM issues;\"\"\")\n",
    "df6 = pd.DataFrame(c.fetchall())\n",
    "df6.columns = [i[0] for i in c.description]\n",
    "df6.head()\n",
    "# Looking for most emojis perhaps. . . \n",
    "# of the 17 columns, what would indicate popularity?"
   ]
  },
  {
   "cell_type": "markdown",
   "metadata": {},
   "source": [
    "## Which issue is the least popular in the avocado-toast repo?"
   ]
  },
  {
   "cell_type": "code",
   "execution_count": null,
   "metadata": {},
   "outputs": [],
   "source": [
    "c.execute(\"\"\"SELECT *\n",
    "             FROM issues;\"\"\")\n",
    "df7 = pd.DataFrame(c.fetchall())\n",
    "df7.columns = [i[0] for i in c.description]\n",
    "df7.head()\n",
    "# Which one has the lease interaction? \n",
    "# Perhaps the most thumbs down"
   ]
  },
  {
   "cell_type": "markdown",
   "metadata": {},
   "source": [
    "## Which issue is the most controversial in the avocado-toast repo?"
   ]
  },
  {
   "cell_type": "code",
   "execution_count": null,
   "metadata": {},
   "outputs": [],
   "source": [
    "c.execute(\"\"\"SELECT *\n",
    "             FROM issues;\"\"\")\n",
    "df8 = pd.DataFrame(c.fetchall())\n",
    "df8.columns = [i[0] for i in c.description]\n",
    "df8.head()\n",
    "# Def looking for most thumbs down, but also has high positive count rate. . . "
   ]
  },
  {
   "cell_type": "markdown",
   "metadata": {},
   "source": [
    "## If an AvocadoCorp employee working on avocado-toast asked you which issue they should work on next, what would you recommend, and why?"
   ]
  },
  {
   "cell_type": "code",
   "execution_count": null,
   "metadata": {},
   "outputs": [],
   "source": [
    "c.execute(\"\"\"SELECT *\n",
    "             FROM issues;\"\"\")\n",
    "df9 = pd.DataFrame(c.fetchall())\n",
    "df9.columns = [i[0] for i in c.description]\n",
    "df9.head()\n",
    "# Most recent unsolved is first answer\n",
    "# Next answer would be the one with the most comments and interactions. . . "
   ]
  }
 ],
 "metadata": {
  "kernelspec": {
   "display_name": "Python 3",
   "language": "python",
   "name": "python3"
  },
  "language_info": {
   "codemirror_mode": {
    "name": "ipython",
    "version": 3
   },
   "file_extension": ".py",
   "mimetype": "text/x-python",
   "name": "python",
   "nbconvert_exporter": "python",
   "pygments_lexer": "ipython3",
   "version": "3.6.9"
  },
  "toc": {
   "base_numbering": 1,
   "nav_menu": {},
   "number_sections": true,
   "sideBar": true,
   "skip_h1_title": false,
   "title_cell": "Table of Contents",
   "title_sidebar": "Contents",
   "toc_cell": false,
   "toc_position": {},
   "toc_section_display": true,
   "toc_window_display": false
  }
 },
 "nbformat": 4,
 "nbformat_minor": 2
}
